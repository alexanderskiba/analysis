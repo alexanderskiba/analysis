{
 "cells": [
  {
   "cell_type": "markdown",
   "metadata": {},
   "source": [
    "# Задание 1\n",
    "\n",
    "Город разбит на квадраты и для каждого квадрата известно количество людей, живущих и работающих на территории этого квадрата. Эти данные находятся в файле `data.csv`. Например, на территории квадрата `85881` живет 101 человек и работает 28 человек.\n",
    "\n",
    "Также город разбит на административные районы, их существенно меньше. Для каждого квадрата известно то, с какими районами он пересекается и по какой части своей площади. Эти данные находятся в файле `area2district.csv`. Например, примерно 38% площади квадрата `91422` составляет район `55`.\n",
    "\n",
    "От Вас требуется предложить способ (и реализовать его) расчета количества людей, живущих и работающих в каждом административном районе соответственно. Можно считать, что внутри каждого квадрата люди распределены равномерно.\n",
    "\n",
    "Требования:\n",
    "   * В каждом районе должно жить и работать целое неотрицательное количество людей\n",
    "   * Сумма проживающих и работающих жителей города не должна измениться\n",
    "\n",
    "В данной задаче нет строго критерия оценивания, но важно сделать упор на скорость работы, в частности не рекомендуется пользоваться циклами `for`. "
   ]
  },
  {
   "cell_type": "code",
   "execution_count": 1,
   "metadata": {},
   "outputs": [],
   "source": [
    "import pandas as pd\n",
    "\n",
    "df_cell2adm = pd.read_csv('area2district.csv', sep=',')\n",
    "df_data = pd.read_csv('data.csv', sep=',')"
   ]
  },
  {
   "cell_type": "markdown",
   "metadata": {},
   "source": [
    "Для начала посчитаем сумму работающих и сидящих дома людей для всех квадратов, чтобы потом сравнить с результатом:"
   ]
  },
  {
   "cell_type": "code",
   "execution_count": 2,
   "metadata": {},
   "outputs": [
    {
     "data": {
      "text/html": [
       "<div>\n",
       "<style scoped>\n",
       "    .dataframe tbody tr th:only-of-type {\n",
       "        vertical-align: middle;\n",
       "    }\n",
       "\n",
       "    .dataframe tbody tr th {\n",
       "        vertical-align: top;\n",
       "    }\n",
       "\n",
       "    .dataframe thead th {\n",
       "        text-align: right;\n",
       "    }\n",
       "</style>\n",
       "<table border=\"1\" class=\"dataframe\">\n",
       "  <thead>\n",
       "    <tr style=\"text-align: right;\">\n",
       "      <th></th>\n",
       "      <th>areaid</th>\n",
       "      <th>districtid</th>\n",
       "      <th>percent</th>\n",
       "    </tr>\n",
       "  </thead>\n",
       "  <tbody>\n",
       "    <tr>\n",
       "      <th>0</th>\n",
       "      <td>89012</td>\n",
       "      <td>478</td>\n",
       "      <td>1.000000</td>\n",
       "    </tr>\n",
       "    <tr>\n",
       "      <th>1</th>\n",
       "      <td>123048</td>\n",
       "      <td>55</td>\n",
       "      <td>0.984496</td>\n",
       "    </tr>\n",
       "    <tr>\n",
       "      <th>2</th>\n",
       "      <td>34536</td>\n",
       "      <td>7</td>\n",
       "      <td>1.000000</td>\n",
       "    </tr>\n",
       "    <tr>\n",
       "      <th>3</th>\n",
       "      <td>91422</td>\n",
       "      <td>55</td>\n",
       "      <td>0.380014</td>\n",
       "    </tr>\n",
       "    <tr>\n",
       "      <th>4</th>\n",
       "      <td>106142</td>\n",
       "      <td>55</td>\n",
       "      <td>0.912069</td>\n",
       "    </tr>\n",
       "  </tbody>\n",
       "</table>\n",
       "</div>"
      ],
      "text/plain": [
       "   areaid  districtid   percent\n",
       "0   89012         478  1.000000\n",
       "1  123048          55  0.984496\n",
       "2   34536           7  1.000000\n",
       "3   91422          55  0.380014\n",
       "4  106142          55  0.912069"
      ]
     },
     "execution_count": 2,
     "metadata": {},
     "output_type": "execute_result"
    }
   ],
   "source": [
    "df_cell2adm.head()"
   ]
  },
  {
   "cell_type": "code",
   "execution_count": 45,
   "metadata": {},
   "outputs": [
    {
     "data": {
      "text/html": [
       "<div>\n",
       "<style scoped>\n",
       "    .dataframe tbody tr th:only-of-type {\n",
       "        vertical-align: middle;\n",
       "    }\n",
       "\n",
       "    .dataframe tbody tr th {\n",
       "        vertical-align: top;\n",
       "    }\n",
       "\n",
       "    .dataframe thead th {\n",
       "        text-align: right;\n",
       "    }\n",
       "</style>\n",
       "<table border=\"1\" class=\"dataframe\">\n",
       "  <thead>\n",
       "    <tr style=\"text-align: right;\">\n",
       "      <th></th>\n",
       "      <th>areaid</th>\n",
       "      <th>home</th>\n",
       "      <th>job</th>\n",
       "    </tr>\n",
       "  </thead>\n",
       "  <tbody>\n",
       "    <tr>\n",
       "      <th>0</th>\n",
       "      <td>144639</td>\n",
       "      <td>1</td>\n",
       "      <td>1</td>\n",
       "    </tr>\n",
       "    <tr>\n",
       "      <th>1</th>\n",
       "      <td>146472</td>\n",
       "      <td>1</td>\n",
       "      <td>1</td>\n",
       "    </tr>\n",
       "    <tr>\n",
       "      <th>2</th>\n",
       "      <td>18242</td>\n",
       "      <td>2</td>\n",
       "      <td>1</td>\n",
       "    </tr>\n",
       "    <tr>\n",
       "      <th>3</th>\n",
       "      <td>85881</td>\n",
       "      <td>101</td>\n",
       "      <td>28</td>\n",
       "    </tr>\n",
       "    <tr>\n",
       "      <th>4</th>\n",
       "      <td>27667</td>\n",
       "      <td>136</td>\n",
       "      <td>48</td>\n",
       "    </tr>\n",
       "  </tbody>\n",
       "</table>\n",
       "</div>"
      ],
      "text/plain": [
       "   areaid  home  job\n",
       "0  144639     1    1\n",
       "1  146472     1    1\n",
       "2   18242     2    1\n",
       "3   85881   101   28\n",
       "4   27667   136   48"
      ]
     },
     "execution_count": 45,
     "metadata": {},
     "output_type": "execute_result"
    }
   ],
   "source": [
    "df_data.head()"
   ]
  },
  {
   "cell_type": "markdown",
   "metadata": {},
   "source": [
    "Соединим таблицы квадратов и районов, используя areaid как ключ"
   ]
  },
  {
   "cell_type": "code",
   "execution_count": 4,
   "metadata": {},
   "outputs": [],
   "source": [
    "df_data_cell = df_data.join(df_cell2adm.set_index('areaid'), on='areaid')"
   ]
  },
  {
   "cell_type": "code",
   "execution_count": 10,
   "metadata": {},
   "outputs": [
    {
     "data": {
      "text/html": [
       "<div>\n",
       "<style scoped>\n",
       "    .dataframe tbody tr th:only-of-type {\n",
       "        vertical-align: middle;\n",
       "    }\n",
       "\n",
       "    .dataframe tbody tr th {\n",
       "        vertical-align: top;\n",
       "    }\n",
       "\n",
       "    .dataframe thead th {\n",
       "        text-align: right;\n",
       "    }\n",
       "</style>\n",
       "<table border=\"1\" class=\"dataframe\">\n",
       "  <thead>\n",
       "    <tr style=\"text-align: right;\">\n",
       "      <th></th>\n",
       "      <th>areaid</th>\n",
       "      <th>home</th>\n",
       "      <th>job</th>\n",
       "      <th>districtid</th>\n",
       "      <th>percent</th>\n",
       "    </tr>\n",
       "  </thead>\n",
       "  <tbody>\n",
       "    <tr>\n",
       "      <th>0</th>\n",
       "      <td>144639</td>\n",
       "      <td>1</td>\n",
       "      <td>1</td>\n",
       "      <td>466</td>\n",
       "      <td>1.0</td>\n",
       "    </tr>\n",
       "    <tr>\n",
       "      <th>1</th>\n",
       "      <td>146472</td>\n",
       "      <td>1</td>\n",
       "      <td>1</td>\n",
       "      <td>397</td>\n",
       "      <td>1.0</td>\n",
       "    </tr>\n",
       "    <tr>\n",
       "      <th>2</th>\n",
       "      <td>18242</td>\n",
       "      <td>2</td>\n",
       "      <td>1</td>\n",
       "      <td>285</td>\n",
       "      <td>1.0</td>\n",
       "    </tr>\n",
       "    <tr>\n",
       "      <th>3</th>\n",
       "      <td>85881</td>\n",
       "      <td>101</td>\n",
       "      <td>28</td>\n",
       "      <td>285</td>\n",
       "      <td>1.0</td>\n",
       "    </tr>\n",
       "    <tr>\n",
       "      <th>4</th>\n",
       "      <td>27667</td>\n",
       "      <td>136</td>\n",
       "      <td>48</td>\n",
       "      <td>285</td>\n",
       "      <td>1.0</td>\n",
       "    </tr>\n",
       "    <tr>\n",
       "      <th>...</th>\n",
       "      <td>...</td>\n",
       "      <td>...</td>\n",
       "      <td>...</td>\n",
       "      <td>...</td>\n",
       "      <td>...</td>\n",
       "    </tr>\n",
       "    <tr>\n",
       "      <th>146291</th>\n",
       "      <td>81040</td>\n",
       "      <td>16</td>\n",
       "      <td>8</td>\n",
       "      <td>297</td>\n",
       "      <td>1.0</td>\n",
       "    </tr>\n",
       "    <tr>\n",
       "      <th>146292</th>\n",
       "      <td>187221</td>\n",
       "      <td>15</td>\n",
       "      <td>6</td>\n",
       "      <td>472</td>\n",
       "      <td>1.0</td>\n",
       "    </tr>\n",
       "    <tr>\n",
       "      <th>146293</th>\n",
       "      <td>115926</td>\n",
       "      <td>9</td>\n",
       "      <td>2</td>\n",
       "      <td>47</td>\n",
       "      <td>1.0</td>\n",
       "    </tr>\n",
       "    <tr>\n",
       "      <th>146294</th>\n",
       "      <td>43848</td>\n",
       "      <td>3</td>\n",
       "      <td>0</td>\n",
       "      <td>5</td>\n",
       "      <td>1.0</td>\n",
       "    </tr>\n",
       "    <tr>\n",
       "      <th>146295</th>\n",
       "      <td>186376</td>\n",
       "      <td>7</td>\n",
       "      <td>2</td>\n",
       "      <td>5</td>\n",
       "      <td>1.0</td>\n",
       "    </tr>\n",
       "  </tbody>\n",
       "</table>\n",
       "<p>170131 rows × 5 columns</p>\n",
       "</div>"
      ],
      "text/plain": [
       "        areaid  home  job  districtid  percent\n",
       "0       144639     1    1         466      1.0\n",
       "1       146472     1    1         397      1.0\n",
       "2        18242     2    1         285      1.0\n",
       "3        85881   101   28         285      1.0\n",
       "4        27667   136   48         285      1.0\n",
       "...        ...   ...  ...         ...      ...\n",
       "146291   81040    16    8         297      1.0\n",
       "146292  187221    15    6         472      1.0\n",
       "146293  115926     9    2          47      1.0\n",
       "146294   43848     3    0           5      1.0\n",
       "146295  186376     7    2           5      1.0\n",
       "\n",
       "[170131 rows x 5 columns]"
      ]
     },
     "execution_count": 10,
     "metadata": {},
     "output_type": "execute_result"
    }
   ],
   "source": [
    "df_data_cell"
   ]
  },
  {
   "cell_type": "markdown",
   "metadata": {},
   "source": [
    "Посчитаем долю людей для каждого района в одном квадрате, сколько не хватает, допишем"
   ]
  },
  {
   "cell_type": "code",
   "execution_count": 11,
   "metadata": {},
   "outputs": [],
   "source": [
    "def calculate(num, div):\n",
    "    '''Функция для промежуточных вычислений разницы округления\n",
    "    num - разница между эталоном и округленным значением\n",
    "    div - количество районов'''\n",
    "    return [num // div + (1 if x < num % div else 0)  for x in range (div)]"
   ]
  },
  {
   "cell_type": "markdown",
   "metadata": {},
   "source": [
    "Все люди распределены равномерно, возьмем разницу от округления и равномерно допишем по районам недостающее количество людей"
   ]
  },
  {
   "cell_type": "code",
   "execution_count": 33,
   "metadata": {},
   "outputs": [],
   "source": [
    "def count_in_square(data):\n",
    "    person_home = round(data['home'] * data ['percent']) \n",
    "    person_job = round(data['job'] * data['percent'])\n",
    "    delta_home = data['home'].iloc[0] - sum(person_home) \n",
    "    delta_job = data['job'].iloc[0] - sum(person_job)\n",
    "    district_num_list_home = calculate(delta_home, len(data))\n",
    "    district_num_list_job = calculate(delta_job, len(data))\n",
    "    data['person_home'] = person_home + district_num_list_home\n",
    "    data['person_job'] = person_job + district_num_list_job\n",
    "    return data"
   ]
  },
  {
   "cell_type": "code",
   "execution_count": 34,
   "metadata": {},
   "outputs": [
    {
     "data": {
      "text/html": [
       "<div>\n",
       "<style scoped>\n",
       "    .dataframe tbody tr th:only-of-type {\n",
       "        vertical-align: middle;\n",
       "    }\n",
       "\n",
       "    .dataframe tbody tr th {\n",
       "        vertical-align: top;\n",
       "    }\n",
       "\n",
       "    .dataframe thead th {\n",
       "        text-align: right;\n",
       "    }\n",
       "</style>\n",
       "<table border=\"1\" class=\"dataframe\">\n",
       "  <thead>\n",
       "    <tr style=\"text-align: right;\">\n",
       "      <th></th>\n",
       "      <th>areaid</th>\n",
       "      <th>home</th>\n",
       "      <th>job</th>\n",
       "      <th>districtid</th>\n",
       "      <th>percent</th>\n",
       "      <th>person_home</th>\n",
       "      <th>person_job</th>\n",
       "    </tr>\n",
       "  </thead>\n",
       "  <tbody>\n",
       "    <tr>\n",
       "      <th>0</th>\n",
       "      <td>144639</td>\n",
       "      <td>1</td>\n",
       "      <td>1</td>\n",
       "      <td>466</td>\n",
       "      <td>1.0</td>\n",
       "      <td>1.0</td>\n",
       "      <td>1.0</td>\n",
       "    </tr>\n",
       "    <tr>\n",
       "      <th>1</th>\n",
       "      <td>146472</td>\n",
       "      <td>1</td>\n",
       "      <td>1</td>\n",
       "      <td>397</td>\n",
       "      <td>1.0</td>\n",
       "      <td>1.0</td>\n",
       "      <td>1.0</td>\n",
       "    </tr>\n",
       "    <tr>\n",
       "      <th>2</th>\n",
       "      <td>18242</td>\n",
       "      <td>2</td>\n",
       "      <td>1</td>\n",
       "      <td>285</td>\n",
       "      <td>1.0</td>\n",
       "      <td>2.0</td>\n",
       "      <td>1.0</td>\n",
       "    </tr>\n",
       "    <tr>\n",
       "      <th>3</th>\n",
       "      <td>85881</td>\n",
       "      <td>101</td>\n",
       "      <td>28</td>\n",
       "      <td>285</td>\n",
       "      <td>1.0</td>\n",
       "      <td>101.0</td>\n",
       "      <td>28.0</td>\n",
       "    </tr>\n",
       "    <tr>\n",
       "      <th>4</th>\n",
       "      <td>27667</td>\n",
       "      <td>136</td>\n",
       "      <td>48</td>\n",
       "      <td>285</td>\n",
       "      <td>1.0</td>\n",
       "      <td>136.0</td>\n",
       "      <td>48.0</td>\n",
       "    </tr>\n",
       "    <tr>\n",
       "      <th>...</th>\n",
       "      <td>...</td>\n",
       "      <td>...</td>\n",
       "      <td>...</td>\n",
       "      <td>...</td>\n",
       "      <td>...</td>\n",
       "      <td>...</td>\n",
       "      <td>...</td>\n",
       "    </tr>\n",
       "    <tr>\n",
       "      <th>146291</th>\n",
       "      <td>81040</td>\n",
       "      <td>16</td>\n",
       "      <td>8</td>\n",
       "      <td>297</td>\n",
       "      <td>1.0</td>\n",
       "      <td>16.0</td>\n",
       "      <td>8.0</td>\n",
       "    </tr>\n",
       "    <tr>\n",
       "      <th>146292</th>\n",
       "      <td>187221</td>\n",
       "      <td>15</td>\n",
       "      <td>6</td>\n",
       "      <td>472</td>\n",
       "      <td>1.0</td>\n",
       "      <td>15.0</td>\n",
       "      <td>6.0</td>\n",
       "    </tr>\n",
       "    <tr>\n",
       "      <th>146293</th>\n",
       "      <td>115926</td>\n",
       "      <td>9</td>\n",
       "      <td>2</td>\n",
       "      <td>47</td>\n",
       "      <td>1.0</td>\n",
       "      <td>9.0</td>\n",
       "      <td>2.0</td>\n",
       "    </tr>\n",
       "    <tr>\n",
       "      <th>146294</th>\n",
       "      <td>43848</td>\n",
       "      <td>3</td>\n",
       "      <td>0</td>\n",
       "      <td>5</td>\n",
       "      <td>1.0</td>\n",
       "      <td>3.0</td>\n",
       "      <td>0.0</td>\n",
       "    </tr>\n",
       "    <tr>\n",
       "      <th>146295</th>\n",
       "      <td>186376</td>\n",
       "      <td>7</td>\n",
       "      <td>2</td>\n",
       "      <td>5</td>\n",
       "      <td>1.0</td>\n",
       "      <td>7.0</td>\n",
       "      <td>2.0</td>\n",
       "    </tr>\n",
       "  </tbody>\n",
       "</table>\n",
       "<p>170131 rows × 7 columns</p>\n",
       "</div>"
      ],
      "text/plain": [
       "        areaid  home  job  districtid  percent  person_home  person_job\n",
       "0       144639     1    1         466      1.0          1.0         1.0\n",
       "1       146472     1    1         397      1.0          1.0         1.0\n",
       "2        18242     2    1         285      1.0          2.0         1.0\n",
       "3        85881   101   28         285      1.0        101.0        28.0\n",
       "4        27667   136   48         285      1.0        136.0        48.0\n",
       "...        ...   ...  ...         ...      ...          ...         ...\n",
       "146291   81040    16    8         297      1.0         16.0         8.0\n",
       "146292  187221    15    6         472      1.0         15.0         6.0\n",
       "146293  115926     9    2          47      1.0          9.0         2.0\n",
       "146294   43848     3    0           5      1.0          3.0         0.0\n",
       "146295  186376     7    2           5      1.0          7.0         2.0\n",
       "\n",
       "[170131 rows x 7 columns]"
      ]
     },
     "execution_count": 34,
     "metadata": {},
     "output_type": "execute_result"
    }
   ],
   "source": [
    "square_count = df_data_cell.groupby(by='areaid').apply(count_in_square)\n",
    "square_count"
   ]
  },
  {
   "cell_type": "markdown",
   "metadata": {},
   "source": [
    "Сгруппируем таблицу по районам, посчитаем сумму по районам и посмотрим на количество жителей"
   ]
  },
  {
   "cell_type": "code",
   "execution_count": 36,
   "metadata": {},
   "outputs": [
    {
     "data": {
      "text/html": [
       "<div>\n",
       "<style scoped>\n",
       "    .dataframe tbody tr th:only-of-type {\n",
       "        vertical-align: middle;\n",
       "    }\n",
       "\n",
       "    .dataframe tbody tr th {\n",
       "        vertical-align: top;\n",
       "    }\n",
       "\n",
       "    .dataframe thead th {\n",
       "        text-align: right;\n",
       "    }\n",
       "</style>\n",
       "<table border=\"1\" class=\"dataframe\">\n",
       "  <thead>\n",
       "    <tr style=\"text-align: right;\">\n",
       "      <th></th>\n",
       "      <th>person_home</th>\n",
       "      <th>person_job</th>\n",
       "    </tr>\n",
       "    <tr>\n",
       "      <th>districtid</th>\n",
       "      <th></th>\n",
       "      <th></th>\n",
       "    </tr>\n",
       "  </thead>\n",
       "  <tbody>\n",
       "    <tr>\n",
       "      <th>1</th>\n",
       "      <td>32629.0</td>\n",
       "      <td>13564.0</td>\n",
       "    </tr>\n",
       "    <tr>\n",
       "      <th>2</th>\n",
       "      <td>3712.0</td>\n",
       "      <td>534.0</td>\n",
       "    </tr>\n",
       "    <tr>\n",
       "      <th>3</th>\n",
       "      <td>46331.0</td>\n",
       "      <td>18060.0</td>\n",
       "    </tr>\n",
       "    <tr>\n",
       "      <th>4</th>\n",
       "      <td>3969.0</td>\n",
       "      <td>1246.0</td>\n",
       "    </tr>\n",
       "    <tr>\n",
       "      <th>5</th>\n",
       "      <td>4832.0</td>\n",
       "      <td>392.0</td>\n",
       "    </tr>\n",
       "    <tr>\n",
       "      <th>...</th>\n",
       "      <td>...</td>\n",
       "      <td>...</td>\n",
       "    </tr>\n",
       "    <tr>\n",
       "      <th>474</th>\n",
       "      <td>5561.0</td>\n",
       "      <td>1933.0</td>\n",
       "    </tr>\n",
       "    <tr>\n",
       "      <th>476</th>\n",
       "      <td>53656.0</td>\n",
       "      <td>19838.0</td>\n",
       "    </tr>\n",
       "    <tr>\n",
       "      <th>477</th>\n",
       "      <td>125350.0</td>\n",
       "      <td>76264.0</td>\n",
       "    </tr>\n",
       "    <tr>\n",
       "      <th>478</th>\n",
       "      <td>12270.0</td>\n",
       "      <td>4151.0</td>\n",
       "    </tr>\n",
       "    <tr>\n",
       "      <th>480</th>\n",
       "      <td>6073.0</td>\n",
       "      <td>1853.0</td>\n",
       "    </tr>\n",
       "  </tbody>\n",
       "</table>\n",
       "<p>443 rows × 2 columns</p>\n",
       "</div>"
      ],
      "text/plain": [
       "            person_home  person_job\n",
       "districtid                         \n",
       "1               32629.0     13564.0\n",
       "2                3712.0       534.0\n",
       "3               46331.0     18060.0\n",
       "4                3969.0      1246.0\n",
       "5                4832.0       392.0\n",
       "...                 ...         ...\n",
       "474              5561.0      1933.0\n",
       "476             53656.0     19838.0\n",
       "477            125350.0     76264.0\n",
       "478             12270.0      4151.0\n",
       "480              6073.0      1853.0\n",
       "\n",
       "[443 rows x 2 columns]"
      ]
     },
     "execution_count": 36,
     "metadata": {},
     "output_type": "execute_result"
    }
   ],
   "source": [
    "result_table = square_count.groupby(by='districtid').agg({'person_home':'sum','person_job':'sum'})\n",
    "result_table"
   ]
  },
  {
   "cell_type": "markdown",
   "metadata": {},
   "source": [
    "Теперь проверим, изменилось ли у нас общее количество людей"
   ]
  },
  {
   "cell_type": "code",
   "execution_count": 38,
   "metadata": {},
   "outputs": [
    {
     "data": {
      "text/plain": [
       "areaid    13901796637\n",
       "home         19160892\n",
       "job           9111365\n",
       "dtype: int64"
      ]
     },
     "execution_count": 38,
     "metadata": {},
     "output_type": "execute_result"
    }
   ],
   "source": [
    "df_data.sum()"
   ]
  },
  {
   "cell_type": "code",
   "execution_count": 39,
   "metadata": {},
   "outputs": [
    {
     "data": {
      "text/plain": [
       "person_home    19160892.0\n",
       "person_job      9111365.0\n",
       "dtype: float64"
      ]
     },
     "execution_count": 39,
     "metadata": {},
     "output_type": "execute_result"
    }
   ],
   "source": [
    "result_table.sum()"
   ]
  },
  {
   "cell_type": "code",
   "execution_count": 40,
   "metadata": {},
   "outputs": [
    {
     "data": {
      "text/plain": [
       "0.0"
      ]
     },
     "execution_count": 40,
     "metadata": {},
     "output_type": "execute_result"
    }
   ],
   "source": [
    "df_data.sum()['home'] - result_table.sum()['person_home']"
   ]
  },
  {
   "cell_type": "code",
   "execution_count": 41,
   "metadata": {},
   "outputs": [
    {
     "data": {
      "text/plain": [
       "0.0"
      ]
     },
     "execution_count": 41,
     "metadata": {},
     "output_type": "execute_result"
    }
   ],
   "source": [
    "df_data.sum()['job'] - result_table.sum()['person_job']"
   ]
  },
  {
   "cell_type": "markdown",
   "metadata": {},
   "source": [
    "Видим, что общее количество людей у нас не изменилось, но данное решение использует цикл for (метод apply) и работает довольно долго, другое решение пока не придумано"
   ]
  }
 ],
 "metadata": {
  "kernelspec": {
   "display_name": "Python 3",
   "language": "python",
   "name": "python3"
  },
  "language_info": {
   "codemirror_mode": {
    "name": "ipython",
    "version": 3
   },
   "file_extension": ".py",
   "mimetype": "text/x-python",
   "name": "python",
   "nbconvert_exporter": "python",
   "pygments_lexer": "ipython3",
   "version": "3.6.8"
  }
 },
 "nbformat": 4,
 "nbformat_minor": 2
}
